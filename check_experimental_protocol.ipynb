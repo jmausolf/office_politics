{
 "cells": [
  {
   "cell_type": "code",
   "execution_count": 40,
   "metadata": {},
   "outputs": [],
   "source": [
    "# Check Experimental Protocol Distribution"
   ]
  },
  {
   "cell_type": "code",
   "execution_count": 41,
   "metadata": {},
   "outputs": [
    {
     "data": {
      "text/plain": [
       "(3802, 15)"
      ]
     },
     "execution_count": 41,
     "metadata": {},
     "output_type": "execute_result"
    }
   ],
   "source": [
    "import pandas as pd\n",
    "import seaborn as sns\n",
    "\n",
    "profiles = ['P03NH', 'P05RH', 'P01DH', 'P04NL', 'P06RL', 'P02DL']\n",
    "versions = ['A', 'B']\n",
    "\n",
    "df = pd.read_csv(\"experiment.csv\")\n",
    "df.shape"
   ]
  },
  {
   "cell_type": "code",
   "execution_count": 42,
   "metadata": {},
   "outputs": [
    {
     "data": {
      "text/html": [
       "<div>\n",
       "<style scoped>\n",
       "    .dataframe tbody tr th:only-of-type {\n",
       "        vertical-align: middle;\n",
       "    }\n",
       "\n",
       "    .dataframe tbody tr th {\n",
       "        vertical-align: top;\n",
       "    }\n",
       "\n",
       "    .dataframe thead th {\n",
       "        text-align: right;\n",
       "    }\n",
       "</style>\n",
       "<table border=\"1\" class=\"dataframe\">\n",
       "  <thead>\n",
       "    <tr style=\"text-align: right;\">\n",
       "      <th></th>\n",
       "      <th>id</th>\n",
       "      <th>cid</th>\n",
       "      <th>list_id</th>\n",
       "      <th>company</th>\n",
       "      <th>contact_name</th>\n",
       "      <th>contact_last_name</th>\n",
       "      <th>contact_email</th>\n",
       "      <th>office</th>\n",
       "      <th>office_state</th>\n",
       "      <th>region</th>\n",
       "      <th>proximal_region</th>\n",
       "      <th>position</th>\n",
       "      <th>job_type</th>\n",
       "      <th>profile</th>\n",
       "      <th>version</th>\n",
       "    </tr>\n",
       "  </thead>\n",
       "  <tbody>\n",
       "    <tr>\n",
       "      <th>0</th>\n",
       "      <td>a01</td>\n",
       "      <td>c01</td>\n",
       "      <td>nasdaq_DDD</td>\n",
       "      <td>3D Systems</td>\n",
       "      <td>NaN</td>\n",
       "      <td>NaN</td>\n",
       "      <td>NaN</td>\n",
       "      <td>Charlotte</td>\n",
       "      <td>NC</td>\n",
       "      <td>south</td>\n",
       "      <td>midatlantic</td>\n",
       "      <td>Principal Software Engineer-DSP</td>\n",
       "      <td>computer_science</td>\n",
       "      <td>P05RH</td>\n",
       "      <td>A</td>\n",
       "    </tr>\n",
       "    <tr>\n",
       "      <th>1</th>\n",
       "      <td>a02</td>\n",
       "      <td>c01</td>\n",
       "      <td>nasdaq_DDD</td>\n",
       "      <td>3D Systems</td>\n",
       "      <td>NaN</td>\n",
       "      <td>NaN</td>\n",
       "      <td>NaN</td>\n",
       "      <td>Charlotte</td>\n",
       "      <td>NC</td>\n",
       "      <td>south</td>\n",
       "      <td>midatlantic</td>\n",
       "      <td>Principal Software Engineer-DSP</td>\n",
       "      <td>computer_science</td>\n",
       "      <td>P03NH</td>\n",
       "      <td>B</td>\n",
       "    </tr>\n",
       "    <tr>\n",
       "      <th>2</th>\n",
       "      <td>a03</td>\n",
       "      <td>c02</td>\n",
       "      <td>nasdaq_EGHT</td>\n",
       "      <td>8X8</td>\n",
       "      <td>NaN</td>\n",
       "      <td>NaN</td>\n",
       "      <td>NaN</td>\n",
       "      <td>San Jose</td>\n",
       "      <td>CA</td>\n",
       "      <td>westcoast</td>\n",
       "      <td>northeast</td>\n",
       "      <td>Software Engineer - Audio</td>\n",
       "      <td>computer_science</td>\n",
       "      <td>P03NH</td>\n",
       "      <td>B</td>\n",
       "    </tr>\n",
       "    <tr>\n",
       "      <th>3</th>\n",
       "      <td>a04</td>\n",
       "      <td>c02</td>\n",
       "      <td>nasdaq_EGHT</td>\n",
       "      <td>8X8</td>\n",
       "      <td>NaN</td>\n",
       "      <td>NaN</td>\n",
       "      <td>NaN</td>\n",
       "      <td>San Jose</td>\n",
       "      <td>CA</td>\n",
       "      <td>westcoast</td>\n",
       "      <td>northeast</td>\n",
       "      <td>Software Engineer - Audio</td>\n",
       "      <td>computer_science</td>\n",
       "      <td>P05RH</td>\n",
       "      <td>A</td>\n",
       "    </tr>\n",
       "    <tr>\n",
       "      <th>4</th>\n",
       "      <td>a05</td>\n",
       "      <td>c03</td>\n",
       "      <td>nasdaq_ATEN</td>\n",
       "      <td>A10 Networks</td>\n",
       "      <td>NaN</td>\n",
       "      <td>NaN</td>\n",
       "      <td>NaN</td>\n",
       "      <td>San Jose</td>\n",
       "      <td>CA</td>\n",
       "      <td>westcoast</td>\n",
       "      <td>northeast</td>\n",
       "      <td>Staff Software Engineer</td>\n",
       "      <td>computer_science</td>\n",
       "      <td>P04NL</td>\n",
       "      <td>B</td>\n",
       "    </tr>\n",
       "  </tbody>\n",
       "</table>\n",
       "</div>"
      ],
      "text/plain": [
       "    id  cid      list_id       company contact_name contact_last_name  \\\n",
       "0  a01  c01   nasdaq_DDD    3D Systems          NaN               NaN   \n",
       "1  a02  c01   nasdaq_DDD    3D Systems          NaN               NaN   \n",
       "2  a03  c02  nasdaq_EGHT           8X8          NaN               NaN   \n",
       "3  a04  c02  nasdaq_EGHT           8X8          NaN               NaN   \n",
       "4  a05  c03  nasdaq_ATEN  A10 Networks          NaN               NaN   \n",
       "\n",
       "  contact_email     office office_state     region proximal_region  \\\n",
       "0           NaN  Charlotte           NC      south     midatlantic   \n",
       "1           NaN  Charlotte           NC      south     midatlantic   \n",
       "2           NaN   San Jose           CA  westcoast       northeast   \n",
       "3           NaN   San Jose           CA  westcoast       northeast   \n",
       "4           NaN   San Jose           CA  westcoast       northeast   \n",
       "\n",
       "                          position          job_type profile version  \n",
       "0  Principal Software Engineer-DSP  computer_science   P05RH       A  \n",
       "1  Principal Software Engineer-DSP  computer_science   P03NH       B  \n",
       "2        Software Engineer - Audio  computer_science   P03NH       B  \n",
       "3        Software Engineer - Audio  computer_science   P05RH       A  \n",
       "4          Staff Software Engineer  computer_science   P04NL       B  "
      ]
     },
     "execution_count": 42,
     "metadata": {},
     "output_type": "execute_result"
    }
   ],
   "source": [
    "df.head()"
   ]
  },
  {
   "cell_type": "code",
   "execution_count": 43,
   "metadata": {},
   "outputs": [
    {
     "name": "stderr",
     "output_type": "stream",
     "text": [
      "/usr/local/Cellar/python3/3.5.1/Frameworks/Python.framework/Versions/3.5/lib/python3.5/site-packages/seaborn/categorical.py:1428: FutureWarning: remove_na is deprecated and is a private function. Do not use.\n",
      "  stat_data = remove_na(group_data)\n"
     ]
    },
    {
     "data": {
      "image/png": "[encoded data removed]",
      "text/plain": [
       "<Figure size 432x288 with 1 Axes>"
      ]
     },
     "metadata": {},
     "output_type": "display_data"
    }
   ],
   "source": [
    "ax = sns.countplot(x=\"job_type\", data=df)"
   ]
  },
  {
   "cell_type": "code",
   "execution_count": 44,
   "metadata": {},
   "outputs": [
    {
     "name": "stderr",
     "output_type": "stream",
     "text": [
      "/usr/local/Cellar/python3/3.5.1/Frameworks/Python.framework/Versions/3.5/lib/python3.5/site-packages/seaborn/categorical.py:1428: FutureWarning: remove_na is deprecated and is a private function. Do not use.\n",
      "  stat_data = remove_na(group_data)\n"
     ]
    },
    {
     "data": {
      "image/png": "[encoded data removed]",
      "text/plain": [
       "<Figure size 432x288 with 1 Axes>"
      ]
     },
     "metadata": {},
     "output_type": "display_data"
    }
   ],
   "source": [
    "ax = sns.countplot(x=\"profile\", data=df, order=profiles)"
   ]
  },
  {
   "cell_type": "code",
   "execution_count": 45,
   "metadata": {},
   "outputs": [
    {
     "name": "stderr",
     "output_type": "stream",
     "text": [
      "/usr/local/Cellar/python3/3.5.1/Frameworks/Python.framework/Versions/3.5/lib/python3.5/site-packages/seaborn/categorical.py:1428: FutureWarning: remove_na is deprecated and is a private function. Do not use.\n",
      "  stat_data = remove_na(group_data)\n"
     ]
    },
    {
     "data": {
      "image/png": "[encoded data removed]",
      "text/plain": [
       "<Figure size 432x288 with 1 Axes>"
      ]
     },
     "metadata": {},
     "output_type": "display_data"
    }
   ],
   "source": [
    "ax = sns.countplot(x='version', data=df, order=versions)"
   ]
  },
  {
   "cell_type": "code",
   "execution_count": 46,
   "metadata": {},
   "outputs": [
    {
     "name": "stderr",
     "output_type": "stream",
     "text": [
      "/usr/local/Cellar/python3/3.5.1/Frameworks/Python.framework/Versions/3.5/lib/python3.5/site-packages/seaborn/categorical.py:1468: FutureWarning: remove_na is deprecated and is a private function. Do not use.\n",
      "  stat_data = remove_na(group_data[hue_mask])\n"
     ]
    },
    {
     "data": {
      "image/png": "[encoded data removed]",
      "text/plain": [
       "<Figure size 432x288 with 1 Axes>"
      ]
     },
     "metadata": {},
     "output_type": "display_data"
    }
   ],
   "source": [
    "ax = sns.countplot(x='profile', hue='version', data=df, order=profiles, hue_order=versions)"
   ]
  }
 ],
 "metadata": {
  "kernelspec": {
   "display_name": "Python 3",
   "language": "python",
   "name": "python3"
  },
  "language_info": {
   "codemirror_mode": {
    "name": "ipython",
    "version": 3
   },
   "file_extension": ".py",
   "mimetype": "text/x-python",
   "name": "python",
   "nbconvert_exporter": "python",
   "pygments_lexer": "ipython3",
   "version": "3.5.1"
  }
 },
 "nbformat": 4,
 "nbformat_minor": 2
}

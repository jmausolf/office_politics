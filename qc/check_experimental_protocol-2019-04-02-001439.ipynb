{
 "cells": [
  {
   "cell_type": "code",
   "execution_count": 1,
   "metadata": {},
   "outputs": [],
   "source": [
    "# Check Experimental Protocol Distribution"
   ]
  },
  {
   "cell_type": "code",
   "execution_count": 2,
   "metadata": {},
   "outputs": [
    {
     "data": {
      "text/plain": [
       "(2812, 41)"
      ]
     },
     "execution_count": 2,
     "metadata": {},
     "output_type": "execute_result"
    }
   ],
   "source": [
    "import pandas as pd\n",
    "import seaborn as sns\n",
    "\n",
    "profiles = ['P03NH', 'P05RH', 'P01DH', 'P04NL', 'P06RL', 'P02DL']\n",
    "versions = ['A', 'B']\n",
    "\n",
    "df = pd.read_csv(\"../logs/protocol_experiment_2019-04-02-001439.csv\")\n",
    "df.shape"
   ]
  },
  {
   "cell_type": "code",
   "execution_count": 3,
   "metadata": {},
   "outputs": [
    {
     "data": {
      "text/html": [
       "<div>\n",
       "<style scoped>\n",
       "    .dataframe tbody tr th:only-of-type {\n",
       "        vertical-align: middle;\n",
       "    }\n",
       "\n",
       "    .dataframe tbody tr th {\n",
       "        vertical-align: top;\n",
       "    }\n",
       "\n",
       "    .dataframe thead th {\n",
       "        text-align: right;\n",
       "    }\n",
       "</style>\n",
       "<table border=\"1\" class=\"dataframe\">\n",
       "  <thead>\n",
       "    <tr style=\"text-align: right;\">\n",
       "      <th></th>\n",
       "      <th>Unnamed: 0</th>\n",
       "      <th>cid</th>\n",
       "      <th>list_id</th>\n",
       "      <th>company</th>\n",
       "      <th>position</th>\n",
       "      <th>office</th>\n",
       "      <th>office_state</th>\n",
       "      <th>job_type</th>\n",
       "      <th>list_rank</th>\n",
       "      <th>source</th>\n",
       "      <th>...</th>\n",
       "      <th>exp_leader</th>\n",
       "      <th>exp_employers</th>\n",
       "      <th>exp_rm_cols</th>\n",
       "      <th>exp_prestige_probs</th>\n",
       "      <th>exp_leader_list</th>\n",
       "      <th>exp_order</th>\n",
       "      <th>exp_prestige_labs</th>\n",
       "      <th>exp_control_lab</th>\n",
       "      <th>exp_version</th>\n",
       "      <th>exp_treatment_probs</th>\n",
       "    </tr>\n",
       "  </thead>\n",
       "  <tbody>\n",
       "    <tr>\n",
       "      <th>0</th>\n",
       "      <td>0</td>\n",
       "      <td>c0001</td>\n",
       "      <td>cnbc_34</td>\n",
       "      <td>Duolingo</td>\n",
       "      <td>Machine Learning Engineer</td>\n",
       "      <td>Pittsburgh</td>\n",
       "      <td>PA</td>\n",
       "      <td>data_science</td>\n",
       "      <td>35.0</td>\n",
       "      <td>cnbc_disruptor50</td>\n",
       "      <td>...</td>\n",
       "      <td>leadership</td>\n",
       "      <td>keys/cleaned_employers_key.csv</td>\n",
       "      <td>default</td>\n",
       "      <td>[0.7, 0.3]</td>\n",
       "      <td>['president', 'vice president']</td>\n",
       "      <td>order</td>\n",
       "      <td>['High', 'Low']</td>\n",
       "      <td>NEU</td>\n",
       "      <td>version</td>\n",
       "      <td>[0.4, 0.6]</td>\n",
       "    </tr>\n",
       "    <tr>\n",
       "      <th>1</th>\n",
       "      <td>1</td>\n",
       "      <td>c0001</td>\n",
       "      <td>cnbc_34</td>\n",
       "      <td>Duolingo</td>\n",
       "      <td>Machine Learning Engineer</td>\n",
       "      <td>Pittsburgh</td>\n",
       "      <td>PA</td>\n",
       "      <td>data_science</td>\n",
       "      <td>35.0</td>\n",
       "      <td>cnbc_disruptor50</td>\n",
       "      <td>...</td>\n",
       "      <td>leadership</td>\n",
       "      <td>keys/cleaned_employers_key.csv</td>\n",
       "      <td>default</td>\n",
       "      <td>[0.7, 0.3]</td>\n",
       "      <td>['president', 'vice president']</td>\n",
       "      <td>order</td>\n",
       "      <td>['High', 'Low']</td>\n",
       "      <td>NEU</td>\n",
       "      <td>version</td>\n",
       "      <td>[0.4, 0.6]</td>\n",
       "    </tr>\n",
       "    <tr>\n",
       "      <th>2</th>\n",
       "      <td>2</td>\n",
       "      <td>c0003</td>\n",
       "      <td>f1000_01</td>\n",
       "      <td>Berkshire Hathaway</td>\n",
       "      <td>NET Software Engineer II</td>\n",
       "      <td>Omaha</td>\n",
       "      <td>NE</td>\n",
       "      <td>computer_science</td>\n",
       "      <td>2.0</td>\n",
       "      <td>fortune1000</td>\n",
       "      <td>...</td>\n",
       "      <td>leadership</td>\n",
       "      <td>keys/cleaned_employers_key.csv</td>\n",
       "      <td>default</td>\n",
       "      <td>[0.7, 0.3]</td>\n",
       "      <td>['president', 'vice president']</td>\n",
       "      <td>order</td>\n",
       "      <td>['High', 'Low']</td>\n",
       "      <td>NEU</td>\n",
       "      <td>version</td>\n",
       "      <td>[0.4, 0.6]</td>\n",
       "    </tr>\n",
       "    <tr>\n",
       "      <th>3</th>\n",
       "      <td>3</td>\n",
       "      <td>c0003</td>\n",
       "      <td>f1000_01</td>\n",
       "      <td>Berkshire Hathaway</td>\n",
       "      <td>NET Software Engineer II</td>\n",
       "      <td>Omaha</td>\n",
       "      <td>NE</td>\n",
       "      <td>computer_science</td>\n",
       "      <td>2.0</td>\n",
       "      <td>fortune1000</td>\n",
       "      <td>...</td>\n",
       "      <td>leadership</td>\n",
       "      <td>keys/cleaned_employers_key.csv</td>\n",
       "      <td>default</td>\n",
       "      <td>[0.7, 0.3]</td>\n",
       "      <td>['president', 'vice president']</td>\n",
       "      <td>order</td>\n",
       "      <td>['High', 'Low']</td>\n",
       "      <td>NEU</td>\n",
       "      <td>version</td>\n",
       "      <td>[0.4, 0.6]</td>\n",
       "    </tr>\n",
       "    <tr>\n",
       "      <th>4</th>\n",
       "      <td>4</td>\n",
       "      <td>c0004</td>\n",
       "      <td>f1000_112</td>\n",
       "      <td>DuPont</td>\n",
       "      <td>Data Scientist</td>\n",
       "      <td>Wilmington</td>\n",
       "      <td>DE</td>\n",
       "      <td>data_science</td>\n",
       "      <td>113.0</td>\n",
       "      <td>fortune1000</td>\n",
       "      <td>...</td>\n",
       "      <td>leadership</td>\n",
       "      <td>keys/cleaned_employers_key.csv</td>\n",
       "      <td>default</td>\n",
       "      <td>[0.7, 0.3]</td>\n",
       "      <td>['president', 'vice president']</td>\n",
       "      <td>order</td>\n",
       "      <td>['High', 'Low']</td>\n",
       "      <td>NEU</td>\n",
       "      <td>version</td>\n",
       "      <td>[0.4, 0.6]</td>\n",
       "    </tr>\n",
       "  </tbody>\n",
       "</table>\n",
       "<p>5 rows × 41 columns</p>\n",
       "</div>"
      ],
      "text/plain": [
       "   Unnamed: 0    cid    list_id             company  \\\n",
       "0           0  c0001    cnbc_34            Duolingo   \n",
       "1           1  c0001    cnbc_34            Duolingo   \n",
       "2           2  c0003   f1000_01  Berkshire Hathaway   \n",
       "3           3  c0003   f1000_01  Berkshire Hathaway   \n",
       "4           4  c0004  f1000_112              DuPont   \n",
       "\n",
       "                    position      office office_state          job_type  \\\n",
       "0  Machine Learning Engineer  Pittsburgh           PA      data_science   \n",
       "1  Machine Learning Engineer  Pittsburgh           PA      data_science   \n",
       "2   NET Software Engineer II       Omaha           NE  computer_science   \n",
       "3   NET Software Engineer II       Omaha           NE  computer_science   \n",
       "4             Data Scientist  Wilmington           DE      data_science   \n",
       "\n",
       "   list_rank            source  ...  exp_leader  \\\n",
       "0       35.0  cnbc_disruptor50  ...  leadership   \n",
       "1       35.0  cnbc_disruptor50  ...  leadership   \n",
       "2        2.0       fortune1000  ...  leadership   \n",
       "3        2.0       fortune1000  ...  leadership   \n",
       "4      113.0       fortune1000  ...  leadership   \n",
       "\n",
       "                    exp_employers exp_rm_cols exp_prestige_probs  \\\n",
       "0  keys/cleaned_employers_key.csv     default         [0.7, 0.3]   \n",
       "1  keys/cleaned_employers_key.csv     default         [0.7, 0.3]   \n",
       "2  keys/cleaned_employers_key.csv     default         [0.7, 0.3]   \n",
       "3  keys/cleaned_employers_key.csv     default         [0.7, 0.3]   \n",
       "4  keys/cleaned_employers_key.csv     default         [0.7, 0.3]   \n",
       "\n",
       "                   exp_leader_list exp_order exp_prestige_labs  \\\n",
       "0  ['president', 'vice president']     order   ['High', 'Low']   \n",
       "1  ['president', 'vice president']     order   ['High', 'Low']   \n",
       "2  ['president', 'vice president']     order   ['High', 'Low']   \n",
       "3  ['president', 'vice president']     order   ['High', 'Low']   \n",
       "4  ['president', 'vice president']     order   ['High', 'Low']   \n",
       "\n",
       "  exp_control_lab exp_version  exp_treatment_probs  \n",
       "0             NEU     version           [0.4, 0.6]  \n",
       "1             NEU     version           [0.4, 0.6]  \n",
       "2             NEU     version           [0.4, 0.6]  \n",
       "3             NEU     version           [0.4, 0.6]  \n",
       "4             NEU     version           [0.4, 0.6]  \n",
       "\n",
       "[5 rows x 41 columns]"
      ]
     },
     "execution_count": 3,
     "metadata": {},
     "output_type": "execute_result"
    }
   ],
   "source": [
    "df.head()"
   ]
  },
  {
   "cell_type": "code",
   "execution_count": 4,
   "metadata": {},
   "outputs": [
    {
     "data": {
      "image/png": "[encoded data removed]",
      "text/plain": [
       "<Figure size 432x288 with 1 Axes>"
      ]
     },
     "metadata": {
      "needs_background": "light"
     },
     "output_type": "display_data"
    }
   ],
   "source": [
    "ax = sns.countplot(x=\"job_type\", data=df)"
   ]
  },
  {
   "cell_type": "code",
   "execution_count": 5,
   "metadata": {},
   "outputs": [
    {
     "data": {
      "image/png": "[encoded data removed]",
      "text/plain": [
       "<Figure size 432x288 with 1 Axes>"
      ]
     },
     "metadata": {
      "needs_background": "light"
     },
     "output_type": "display_data"
    }
   ],
   "source": [
    "ax = sns.countplot(x=\"profile\", data=df, order=profiles)"
   ]
  },
  {
   "cell_type": "code",
   "execution_count": 6,
   "metadata": {},
   "outputs": [
    {
     "data": {
      "image/png": "[encoded data removed]",
      "text/plain": [
       "<Figure size 432x288 with 1 Axes>"
      ]
     },
     "metadata": {
      "needs_background": "light"
     },
     "output_type": "display_data"
    }
   ],
   "source": [
    "ax = sns.countplot(x='version', data=df, order=versions)"
   ]
  },
  {
   "cell_type": "code",
   "execution_count": 7,
   "metadata": {},
   "outputs": [
    {
     "data": {
      "image/png": "[encoded data removed]",
      "text/plain": [
       "<Figure size 432x288 with 1 Axes>"
      ]
     },
     "metadata": {
      "needs_background": "light"
     },
     "output_type": "display_data"
    }
   ],
   "source": [
    "ax = sns.countplot(x='profile', hue='version', data=df, order=profiles, hue_order=versions)"
   ]
  },
  {
   "cell_type": "code",
   "execution_count": 8,
   "metadata": {},
   "outputs": [
    {
     "data": {
      "text/plain": [
       "Index(['Unnamed: 0', 'cid', 'list_id', 'company', 'position', 'office',\n",
       "       'office_state', 'job_type', 'list_rank', 'source', 'file_rank',\n",
       "       'state_name', 'state', 'region', 'proximal_region', 'contact_name',\n",
       "       'contact_last_name', 'contact_email', 'prestige_level', 'order',\n",
       "       'version', 'leadership', 'party', 'profile', 'name', 'exp_pair_key',\n",
       "       'exp_date', 'exp_treatment_labs', 'exp_state_col', 'exp_version_list',\n",
       "       'exp_order_list', 'exp_leader', 'exp_employers', 'exp_rm_cols',\n",
       "       'exp_prestige_probs', 'exp_leader_list', 'exp_order',\n",
       "       'exp_prestige_labs', 'exp_control_lab', 'exp_version',\n",
       "       'exp_treatment_probs'],\n",
       "      dtype='object')"
      ]
     },
     "execution_count": 8,
     "metadata": {},
     "output_type": "execute_result"
    }
   ],
   "source": [
    "df.columns"
   ]
  },
  {
   "cell_type": "code",
   "execution_count": 9,
   "metadata": {},
   "outputs": [
    {
     "data": {
      "image/png": "[encoded data removed]",
      "text/plain": [
       "<Figure size 432x288 with 1 Axes>"
      ]
     },
     "metadata": {
      "needs_background": "light"
     },
     "output_type": "display_data"
    }
   ],
   "source": [
    "ax = sns.countplot(x='profile', hue='region', data=df, order=profiles)"
   ]
  },
  {
   "cell_type": "code",
   "execution_count": 10,
   "metadata": {},
   "outputs": [
    {
     "data": {
      "image/png": "[encoded data removed]",
      "text/plain": [
       "<Figure size 432x288 with 1 Axes>"
      ]
     },
     "metadata": {
      "needs_background": "light"
     },
     "output_type": "display_data"
    }
   ],
   "source": [
    "ax = sns.countplot(x='profile', hue='order', data=df, order=profiles)"
   ]
  },
  {
   "cell_type": "code",
   "execution_count": 11,
   "metadata": {},
   "outputs": [
    {
     "data": {
      "text/plain": [
       "P03NH    992\n",
       "P05RH    609\n",
       "P04NL    414\n",
       "P01DH    383\n",
       "P06RL    241\n",
       "P02DL    173\n",
       "Name: profile, dtype: int64"
      ]
     },
     "execution_count": 11,
     "metadata": {},
     "output_type": "execute_result"
    }
   ],
   "source": [
    "df['profile'].value_counts()"
   ]
  },
  {
   "cell_type": "code",
   "execution_count": 12,
   "metadata": {},
   "outputs": [
    {
     "data": {
      "image/png": "[encoded data removed]",
      "text/plain": [
       "<Figure size 432x288 with 1 Axes>"
      ]
     },
     "metadata": {
      "needs_background": "light"
     },
     "output_type": "display_data"
    }
   ],
   "source": [
    "ax = sns.countplot(x=\"office_state\", data=df)"
   ]
  },
  {
   "cell_type": "code",
   "execution_count": 13,
   "metadata": {},
   "outputs": [
    {
     "data": {
      "text/plain": [
       "CA    556\n",
       "TX    268\n",
       "NY    210\n",
       "MA    200\n",
       "IL    156\n",
       "FL    114\n",
       "WA     92\n",
       "PA     92\n",
       "GA     86\n",
       "NJ     84\n",
       "VA     72\n",
       "CO     70\n",
       "OH     70\n",
       "NC     68\n",
       "MN     64\n",
       "AZ     54\n",
       "MI     46\n",
       "MO     44\n",
       "IN     42\n",
       "MD     40\n",
       "CT     38\n",
       "TN     36\n",
       "UT     32\n",
       "WI     30\n",
       "OR     26\n",
       "KS     22\n",
       "OK     22\n",
       "IA     18\n",
       "NV     18\n",
       "DC     16\n",
       "NE     14\n",
       "RI     12\n",
       "AR     12\n",
       "AL     10\n",
       "KY      8\n",
       "NM      8\n",
       "DE      8\n",
       "SC      8\n",
       "LA      8\n",
       "SD      6\n",
       "VT      6\n",
       "ME      6\n",
       "WV      4\n",
       "PR      4\n",
       "NH      4\n",
       "AK      2\n",
       "ID      2\n",
       "MS      2\n",
       "HI      2\n",
       "Name: office_state, dtype: int64"
      ]
     },
     "execution_count": 13,
     "metadata": {},
     "output_type": "execute_result"
    }
   ],
   "source": [
    "df['office_state'].value_counts()"
   ]
  }
 ],
 "metadata": {
  "kernelspec": {
   "display_name": "Python 3",
   "language": "python",
   "name": "python3"
  },
  "language_info": {
   "codemirror_mode": {
    "name": "ipython",
    "version": 3
   },
   "file_extension": ".py",
   "mimetype": "text/x-python",
   "name": "python",
   "nbconvert_exporter": "python",
   "pygments_lexer": "ipython3",
   "version": "3.7.3"
  }
 },
 "nbformat": 4,
 "nbformat_minor": 2
}

{
 "cells": [
  {
   "cell_type": "code",
   "execution_count": 1,
   "metadata": {},
   "outputs": [],
   "source": [
    "# Check Experimental Protocol Distribution"
   ]
  },
  {
   "cell_type": "code",
   "execution_count": 2,
   "metadata": {},
   "outputs": [
    {
     "data": {
      "text/plain": [
       "(2812, 16)"
      ]
     },
     "execution_count": 2,
     "metadata": {},
     "output_type": "execute_result"
    }
   ],
   "source": [
    "import pandas as pd\n",
    "import seaborn as sns\n",
    "\n",
    "profiles = ['P03NH', 'P05RH', 'P01DH', 'P04NL', 'P06RL', 'P02DL']\n",
    "versions = ['A', 'B']\n",
    "\n",
    "df = pd.read_csv(\"../protocols/experiment_2019-04-01-042952.csv\")\n",
    "df.shape"
   ]
  },
  {
   "cell_type": "code",
   "execution_count": 3,
   "metadata": {},
   "outputs": [
    {
     "data": {
      "text/html": [
       "<div>\n",
       "<style scoped>\n",
       "    .dataframe tbody tr th:only-of-type {\n",
       "        vertical-align: middle;\n",
       "    }\n",
       "\n",
       "    .dataframe tbody tr th {\n",
       "        vertical-align: top;\n",
       "    }\n",
       "\n",
       "    .dataframe thead th {\n",
       "        text-align: right;\n",
       "    }\n",
       "</style>\n",
       "<table border=\"1\" class=\"dataframe\">\n",
       "  <thead>\n",
       "    <tr style=\"text-align: right;\">\n",
       "      <th></th>\n",
       "      <th>id</th>\n",
       "      <th>cid</th>\n",
       "      <th>list_id</th>\n",
       "      <th>company</th>\n",
       "      <th>contact_name</th>\n",
       "      <th>contact_last_name</th>\n",
       "      <th>contact_email</th>\n",
       "      <th>office</th>\n",
       "      <th>office_state</th>\n",
       "      <th>region</th>\n",
       "      <th>proximal_region</th>\n",
       "      <th>position</th>\n",
       "      <th>job_type</th>\n",
       "      <th>profile</th>\n",
       "      <th>version</th>\n",
       "      <th>leadership</th>\n",
       "    </tr>\n",
       "  </thead>\n",
       "  <tbody>\n",
       "    <tr>\n",
       "      <th>0</th>\n",
       "      <td>a01</td>\n",
       "      <td>c0001</td>\n",
       "      <td>cnbc_34</td>\n",
       "      <td>Duolingo</td>\n",
       "      <td>Brittany</td>\n",
       "      <td>Mitlo</td>\n",
       "      <td>brittany@duolingo.com</td>\n",
       "      <td>Pittsburgh</td>\n",
       "      <td>PA</td>\n",
       "      <td>northeast</td>\n",
       "      <td>midatlantic</td>\n",
       "      <td>Machine Learning Engineer</td>\n",
       "      <td>data_science</td>\n",
       "      <td>P05RH</td>\n",
       "      <td>A</td>\n",
       "      <td>vice president</td>\n",
       "    </tr>\n",
       "    <tr>\n",
       "      <th>1</th>\n",
       "      <td>a02</td>\n",
       "      <td>c0001</td>\n",
       "      <td>cnbc_34</td>\n",
       "      <td>Duolingo</td>\n",
       "      <td>Brittany</td>\n",
       "      <td>Mitlo</td>\n",
       "      <td>brittany@duolingo.com</td>\n",
       "      <td>Pittsburgh</td>\n",
       "      <td>PA</td>\n",
       "      <td>northeast</td>\n",
       "      <td>midatlantic</td>\n",
       "      <td>Machine Learning Engineer</td>\n",
       "      <td>data_science</td>\n",
       "      <td>P03NH</td>\n",
       "      <td>B</td>\n",
       "      <td>president</td>\n",
       "    </tr>\n",
       "    <tr>\n",
       "      <th>2</th>\n",
       "      <td>a03</td>\n",
       "      <td>c0003</td>\n",
       "      <td>f1000_01</td>\n",
       "      <td>Berkshire Hathaway</td>\n",
       "      <td>Courtney</td>\n",
       "      <td>Guest</td>\n",
       "      <td>cguest@bhhc.com</td>\n",
       "      <td>Omaha</td>\n",
       "      <td>NE</td>\n",
       "      <td>midwest</td>\n",
       "      <td>northeast</td>\n",
       "      <td>NET Software Engineer II</td>\n",
       "      <td>computer_science</td>\n",
       "      <td>P03NH</td>\n",
       "      <td>B</td>\n",
       "      <td>president</td>\n",
       "    </tr>\n",
       "    <tr>\n",
       "      <th>3</th>\n",
       "      <td>a04</td>\n",
       "      <td>c0003</td>\n",
       "      <td>f1000_01</td>\n",
       "      <td>Berkshire Hathaway</td>\n",
       "      <td>Courtney</td>\n",
       "      <td>Guest</td>\n",
       "      <td>cguest@bhhc.com</td>\n",
       "      <td>Omaha</td>\n",
       "      <td>NE</td>\n",
       "      <td>midwest</td>\n",
       "      <td>northeast</td>\n",
       "      <td>NET Software Engineer II</td>\n",
       "      <td>computer_science</td>\n",
       "      <td>P05RH</td>\n",
       "      <td>A</td>\n",
       "      <td>vice president</td>\n",
       "    </tr>\n",
       "    <tr>\n",
       "      <th>4</th>\n",
       "      <td>a05</td>\n",
       "      <td>c0004</td>\n",
       "      <td>f1000_112</td>\n",
       "      <td>DuPont</td>\n",
       "      <td>Marissa</td>\n",
       "      <td>McMurray</td>\n",
       "      <td>marissa.mcmurray@dupont.com</td>\n",
       "      <td>Wilmington</td>\n",
       "      <td>DE</td>\n",
       "      <td>northeast</td>\n",
       "      <td>midatlantic</td>\n",
       "      <td>Data Scientist</td>\n",
       "      <td>data_science</td>\n",
       "      <td>P03NH</td>\n",
       "      <td>B</td>\n",
       "      <td>president</td>\n",
       "    </tr>\n",
       "  </tbody>\n",
       "</table>\n",
       "</div>"
      ],
      "text/plain": [
       "    id    cid    list_id             company contact_name contact_last_name  \\\n",
       "0  a01  c0001    cnbc_34            Duolingo     Brittany             Mitlo   \n",
       "1  a02  c0001    cnbc_34            Duolingo     Brittany             Mitlo   \n",
       "2  a03  c0003   f1000_01  Berkshire Hathaway     Courtney             Guest   \n",
       "3  a04  c0003   f1000_01  Berkshire Hathaway     Courtney             Guest   \n",
       "4  a05  c0004  f1000_112              DuPont      Marissa          McMurray   \n",
       "\n",
       "                 contact_email      office office_state     region  \\\n",
       "0        brittany@duolingo.com  Pittsburgh           PA  northeast   \n",
       "1        brittany@duolingo.com  Pittsburgh           PA  northeast   \n",
       "2              cguest@bhhc.com       Omaha           NE    midwest   \n",
       "3              cguest@bhhc.com       Omaha           NE    midwest   \n",
       "4  marissa.mcmurray@dupont.com  Wilmington           DE  northeast   \n",
       "\n",
       "  proximal_region                   position          job_type profile  \\\n",
       "0     midatlantic  Machine Learning Engineer      data_science   P05RH   \n",
       "1     midatlantic  Machine Learning Engineer      data_science   P03NH   \n",
       "2       northeast   NET Software Engineer II  computer_science   P03NH   \n",
       "3       northeast   NET Software Engineer II  computer_science   P05RH   \n",
       "4     midatlantic             Data Scientist      data_science   P03NH   \n",
       "\n",
       "  version      leadership  \n",
       "0       A  vice president  \n",
       "1       B       president  \n",
       "2       B       president  \n",
       "3       A  vice president  \n",
       "4       B       president  "
      ]
     },
     "execution_count": 3,
     "metadata": {},
     "output_type": "execute_result"
    }
   ],
   "source": [
    "df.head()"
   ]
  },
  {
   "cell_type": "code",
   "execution_count": 4,
   "metadata": {},
   "outputs": [
    {
     "name": "stderr",
     "output_type": "stream",
     "text": [
      "/usr/local/Cellar/python3/3.5.1/Frameworks/Python.framework/Versions/3.5/lib/python3.5/site-packages/seaborn/categorical.py:1428: FutureWarning: remove_na is deprecated and is a private function. Do not use.\n",
      "  stat_data = remove_na(group_data)\n"
     ]
    },
    {
     "data": {
      "image/png": "[encoded data removed]",
      "text/plain": [
       "<Figure size 432x288 with 1 Axes>"
      ]
     },
     "metadata": {},
     "output_type": "display_data"
    }
   ],
   "source": [
    "ax = sns.countplot(x=\"job_type\", data=df)"
   ]
  },
  {
   "cell_type": "code",
   "execution_count": 5,
   "metadata": {},
   "outputs": [
    {
     "name": "stderr",
     "output_type": "stream",
     "text": [
      "/usr/local/Cellar/python3/3.5.1/Frameworks/Python.framework/Versions/3.5/lib/python3.5/site-packages/seaborn/categorical.py:1428: FutureWarning: remove_na is deprecated and is a private function. Do not use.\n",
      "  stat_data = remove_na(group_data)\n"
     ]
    },
    {
     "data": {
      "image/png": "[encoded data removed]",
      "text/plain": [
       "<Figure size 432x288 with 1 Axes>"
      ]
     },
     "metadata": {},
     "output_type": "display_data"
    }
   ],
   "source": [
    "ax = sns.countplot(x=\"profile\", data=df, order=profiles)"
   ]
  },
  {
   "cell_type": "code",
   "execution_count": 6,
   "metadata": {},
   "outputs": [
    {
     "name": "stderr",
     "output_type": "stream",
     "text": [
      "/usr/local/Cellar/python3/3.5.1/Frameworks/Python.framework/Versions/3.5/lib/python3.5/site-packages/seaborn/categorical.py:1428: FutureWarning: remove_na is deprecated and is a private function. Do not use.\n",
      "  stat_data = remove_na(group_data)\n"
     ]
    },
    {
     "data": {
      "image/png": "[encoded data removed]",
      "text/plain": [
       "<Figure size 432x288 with 1 Axes>"
      ]
     },
     "metadata": {},
     "output_type": "display_data"
    }
   ],
   "source": [
    "ax = sns.countplot(x='version', data=df, order=versions)"
   ]
  },
  {
   "cell_type": "code",
   "execution_count": 7,
   "metadata": {},
   "outputs": [
    {
     "name": "stderr",
     "output_type": "stream",
     "text": [
      "/usr/local/Cellar/python3/3.5.1/Frameworks/Python.framework/Versions/3.5/lib/python3.5/site-packages/seaborn/categorical.py:1468: FutureWarning: remove_na is deprecated and is a private function. Do not use.\n",
      "  stat_data = remove_na(group_data[hue_mask])\n"
     ]
    },
    {
     "data": {
      "image/png": "[encoded data removed]",
      "text/plain": [
       "<Figure size 432x288 with 1 Axes>"
      ]
     },
     "metadata": {},
     "output_type": "display_data"
    }
   ],
   "source": [
    "ax = sns.countplot(x='profile', hue='version', data=df, order=profiles, hue_order=versions)"
   ]
  },
  {
   "cell_type": "code",
   "execution_count": 8,
   "metadata": {},
   "outputs": [
    {
     "data": {
      "text/plain": [
       "P03NH    1015\n",
       "P05RH     621\n",
       "P01DH     394\n",
       "P04NL     391\n",
       "P06RL     256\n",
       "P02DL     135\n",
       "Name: profile, dtype: int64"
      ]
     },
     "execution_count": 8,
     "metadata": {},
     "output_type": "execute_result"
    }
   ],
   "source": [
    "df['profile'].value_counts()"
   ]
  },
  {
   "cell_type": "code",
   "execution_count": 9,
   "metadata": {},
   "outputs": [
    {
     "name": "stderr",
     "output_type": "stream",
     "text": [
      "/usr/local/Cellar/python3/3.5.1/Frameworks/Python.framework/Versions/3.5/lib/python3.5/site-packages/seaborn/categorical.py:1428: FutureWarning: remove_na is deprecated and is a private function. Do not use.\n",
      "  stat_data = remove_na(group_data)\n"
     ]
    },
    {
     "data": {
      "image/png": "[encoded data removed]",
      "text/plain": [
       "<Figure size 432x288 with 1 Axes>"
      ]
     },
     "metadata": {},
     "output_type": "display_data"
    }
   ],
   "source": [
    "ax = sns.countplot(x=\"office_state\", data=df)"
   ]
  },
  {
   "cell_type": "code",
   "execution_count": 10,
   "metadata": {},
   "outputs": [
    {
     "data": {
      "text/plain": [
       "CA    556\n",
       "TX    268\n",
       "NY    210\n",
       "MA    200\n",
       "IL    156\n",
       "FL    114\n",
       "WA     92\n",
       "PA     92\n",
       "GA     86\n",
       "NJ     84\n",
       "VA     72\n",
       "CO     70\n",
       "OH     70\n",
       "NC     68\n",
       "MN     64\n",
       "AZ     54\n",
       "MI     46\n",
       "MO     44\n",
       "IN     42\n",
       "MD     40\n",
       "CT     38\n",
       "TN     36\n",
       "UT     32\n",
       "WI     30\n",
       "OR     26\n",
       "KS     22\n",
       "OK     22\n",
       "IA     18\n",
       "NV     18\n",
       "DC     16\n",
       "NE     14\n",
       "AR     12\n",
       "RI     12\n",
       "AL     10\n",
       "NM      8\n",
       "KY      8\n",
       "DE      8\n",
       "LA      8\n",
       "SC      8\n",
       "ME      6\n",
       "SD      6\n",
       "VT      6\n",
       "NH      4\n",
       "PR      4\n",
       "WV      4\n",
       "AK      2\n",
       "HI      2\n",
       "MS      2\n",
       "ID      2\n",
       "Name: office_state, dtype: int64"
      ]
     },
     "execution_count": 10,
     "metadata": {},
     "output_type": "execute_result"
    }
   ],
   "source": [
    "df['office_state'].value_counts()"
   ]
  }
 ],
 "metadata": {
  "kernelspec": {
   "display_name": "Python 3",
   "language": "python",
   "name": "python3"
  },
  "language_info": {
   "codemirror_mode": {
    "name": "ipython",
    "version": 3
   },
   "file_extension": ".py",
   "mimetype": "text/x-python",
   "name": "python",
   "nbconvert_exporter": "python",
   "pygments_lexer": "ipython3",
   "version": "3.5.1"
  }
 },
 "nbformat": 4,
 "nbformat_minor": 2
}

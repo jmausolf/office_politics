{
 "cells": [
  {
   "cell_type": "code",
   "execution_count": 1,
   "metadata": {},
   "outputs": [],
   "source": [
    "# Check Experimental Protocol Distribution"
   ]
  },
  {
   "cell_type": "code",
   "execution_count": 2,
   "metadata": {},
   "outputs": [
    {
     "data": {
      "text/plain": [
       "(1044, 40)"
      ]
     },
     "execution_count": 2,
     "metadata": {},
     "output_type": "execute_result"
    }
   ],
   "source": [
    "import pandas as pd\n",
    "import seaborn as sns\n",
    "\n",
    "profiles = ['P03NH', 'P05RH', 'P01DH', 'P04NL', 'P06RL', 'P02DL']\n",
    "versions = ['A', 'B']\n",
    "\n",
    "df = pd.read_csv(\"../logs/protocol_experiment_2019-04-23-014656.csv\")\n",
    "df.shape"
   ]
  },
  {
   "cell_type": "code",
   "execution_count": 3,
   "metadata": {},
   "outputs": [
    {
     "data": {
      "text/html": [
       "<div>\n",
       "<style scoped>\n",
       "    .dataframe tbody tr th:only-of-type {\n",
       "        vertical-align: middle;\n",
       "    }\n",
       "\n",
       "    .dataframe tbody tr th {\n",
       "        vertical-align: top;\n",
       "    }\n",
       "\n",
       "    .dataframe thead th {\n",
       "        text-align: right;\n",
       "    }\n",
       "</style>\n",
       "<table border=\"1\" class=\"dataframe\">\n",
       "  <thead>\n",
       "    <tr style=\"text-align: right;\">\n",
       "      <th></th>\n",
       "      <th>cid</th>\n",
       "      <th>list_id</th>\n",
       "      <th>company</th>\n",
       "      <th>position</th>\n",
       "      <th>office</th>\n",
       "      <th>office_state</th>\n",
       "      <th>job_type</th>\n",
       "      <th>list_rank</th>\n",
       "      <th>source</th>\n",
       "      <th>file_rank</th>\n",
       "      <th>...</th>\n",
       "      <th>exp_treatment_labs</th>\n",
       "      <th>exp_control_lab</th>\n",
       "      <th>exp_pair_key</th>\n",
       "      <th>exp_order</th>\n",
       "      <th>exp_order_list</th>\n",
       "      <th>exp_version</th>\n",
       "      <th>exp_version_list</th>\n",
       "      <th>exp_leader</th>\n",
       "      <th>exp_leader_list</th>\n",
       "      <th>exp_rm_cols</th>\n",
       "    </tr>\n",
       "  </thead>\n",
       "  <tbody>\n",
       "    <tr>\n",
       "      <th>0</th>\n",
       "      <td>c0001</td>\n",
       "      <td>bi_5</td>\n",
       "      <td>Intarcia Therapeutics</td>\n",
       "      <td>BTG Product Manager, Colleague Compute</td>\n",
       "      <td>Hayward</td>\n",
       "      <td>CA</td>\n",
       "      <td>mba</td>\n",
       "      <td>20.0</td>\n",
       "      <td>business_insider25</td>\n",
       "      <td>1</td>\n",
       "      <td>...</td>\n",
       "      <td>['DEM', 'REP']</td>\n",
       "      <td>NEU</td>\n",
       "      <td>cid</td>\n",
       "      <td>order</td>\n",
       "      <td>[1, 2]</td>\n",
       "      <td>version</td>\n",
       "      <td>['A', 'B']</td>\n",
       "      <td>leadership</td>\n",
       "      <td>['president', 'vice president']</td>\n",
       "      <td>default</td>\n",
       "    </tr>\n",
       "    <tr>\n",
       "      <th>1</th>\n",
       "      <td>c0001</td>\n",
       "      <td>bi_5</td>\n",
       "      <td>Intarcia Therapeutics</td>\n",
       "      <td>BTG Product Manager, Colleague Compute</td>\n",
       "      <td>Hayward</td>\n",
       "      <td>CA</td>\n",
       "      <td>mba</td>\n",
       "      <td>20.0</td>\n",
       "      <td>business_insider25</td>\n",
       "      <td>1</td>\n",
       "      <td>...</td>\n",
       "      <td>['DEM', 'REP']</td>\n",
       "      <td>NEU</td>\n",
       "      <td>cid</td>\n",
       "      <td>order</td>\n",
       "      <td>[1, 2]</td>\n",
       "      <td>version</td>\n",
       "      <td>['A', 'B']</td>\n",
       "      <td>leadership</td>\n",
       "      <td>['president', 'vice president']</td>\n",
       "      <td>default</td>\n",
       "    </tr>\n",
       "    <tr>\n",
       "      <th>2</th>\n",
       "      <td>c0002</td>\n",
       "      <td>f1000_200</td>\n",
       "      <td>Waste Management</td>\n",
       "      <td>Mgr - National Pricing Strategy and Analytics</td>\n",
       "      <td>Lombard</td>\n",
       "      <td>IL</td>\n",
       "      <td>mba_analyst</td>\n",
       "      <td>201.0</td>\n",
       "      <td>fortune1000</td>\n",
       "      <td>1</td>\n",
       "      <td>...</td>\n",
       "      <td>['DEM', 'REP']</td>\n",
       "      <td>NEU</td>\n",
       "      <td>cid</td>\n",
       "      <td>order</td>\n",
       "      <td>[1, 2]</td>\n",
       "      <td>version</td>\n",
       "      <td>['A', 'B']</td>\n",
       "      <td>leadership</td>\n",
       "      <td>['president', 'vice president']</td>\n",
       "      <td>default</td>\n",
       "    </tr>\n",
       "    <tr>\n",
       "      <th>3</th>\n",
       "      <td>c0002</td>\n",
       "      <td>f1000_200</td>\n",
       "      <td>Waste Management</td>\n",
       "      <td>Mgr - National Pricing Strategy and Analytics</td>\n",
       "      <td>Lombard</td>\n",
       "      <td>IL</td>\n",
       "      <td>mba_analyst</td>\n",
       "      <td>201.0</td>\n",
       "      <td>fortune1000</td>\n",
       "      <td>1</td>\n",
       "      <td>...</td>\n",
       "      <td>['DEM', 'REP']</td>\n",
       "      <td>NEU</td>\n",
       "      <td>cid</td>\n",
       "      <td>order</td>\n",
       "      <td>[1, 2]</td>\n",
       "      <td>version</td>\n",
       "      <td>['A', 'B']</td>\n",
       "      <td>leadership</td>\n",
       "      <td>['president', 'vice president']</td>\n",
       "      <td>default</td>\n",
       "    </tr>\n",
       "    <tr>\n",
       "      <th>4</th>\n",
       "      <td>c0003</td>\n",
       "      <td>f1000_254</td>\n",
       "      <td>BlackRock</td>\n",
       "      <td>Senior Data Engineer - Data Science Core</td>\n",
       "      <td>Palo Alto</td>\n",
       "      <td>CA</td>\n",
       "      <td>data_science</td>\n",
       "      <td>255.0</td>\n",
       "      <td>fortune1000</td>\n",
       "      <td>1</td>\n",
       "      <td>...</td>\n",
       "      <td>['DEM', 'REP']</td>\n",
       "      <td>NEU</td>\n",
       "      <td>cid</td>\n",
       "      <td>order</td>\n",
       "      <td>[1, 2]</td>\n",
       "      <td>version</td>\n",
       "      <td>['A', 'B']</td>\n",
       "      <td>leadership</td>\n",
       "      <td>['president', 'vice president']</td>\n",
       "      <td>default</td>\n",
       "    </tr>\n",
       "  </tbody>\n",
       "</table>\n",
       "<p>5 rows × 40 columns</p>\n",
       "</div>"
      ],
      "text/plain": [
       "     cid    list_id                company  \\\n",
       "0  c0001       bi_5  Intarcia Therapeutics   \n",
       "1  c0001       bi_5  Intarcia Therapeutics   \n",
       "2  c0002  f1000_200       Waste Management   \n",
       "3  c0002  f1000_200       Waste Management   \n",
       "4  c0003  f1000_254              BlackRock   \n",
       "\n",
       "                                        position     office office_state  \\\n",
       "0         BTG Product Manager, Colleague Compute    Hayward           CA   \n",
       "1         BTG Product Manager, Colleague Compute    Hayward           CA   \n",
       "2  Mgr - National Pricing Strategy and Analytics    Lombard           IL   \n",
       "3  Mgr - National Pricing Strategy and Analytics    Lombard           IL   \n",
       "4       Senior Data Engineer - Data Science Core  Palo Alto           CA   \n",
       "\n",
       "       job_type  list_rank              source  file_rank  ...  \\\n",
       "0           mba       20.0  business_insider25          1  ...   \n",
       "1           mba       20.0  business_insider25          1  ...   \n",
       "2   mba_analyst      201.0         fortune1000          1  ...   \n",
       "3   mba_analyst      201.0         fortune1000          1  ...   \n",
       "4  data_science      255.0         fortune1000          1  ...   \n",
       "\n",
       "  exp_treatment_labs exp_control_lab exp_pair_key exp_order exp_order_list  \\\n",
       "0     ['DEM', 'REP']             NEU          cid     order         [1, 2]   \n",
       "1     ['DEM', 'REP']             NEU          cid     order         [1, 2]   \n",
       "2     ['DEM', 'REP']             NEU          cid     order         [1, 2]   \n",
       "3     ['DEM', 'REP']             NEU          cid     order         [1, 2]   \n",
       "4     ['DEM', 'REP']             NEU          cid     order         [1, 2]   \n",
       "\n",
       "  exp_version exp_version_list  exp_leader                  exp_leader_list  \\\n",
       "0     version       ['A', 'B']  leadership  ['president', 'vice president']   \n",
       "1     version       ['A', 'B']  leadership  ['president', 'vice president']   \n",
       "2     version       ['A', 'B']  leadership  ['president', 'vice president']   \n",
       "3     version       ['A', 'B']  leadership  ['president', 'vice president']   \n",
       "4     version       ['A', 'B']  leadership  ['president', 'vice president']   \n",
       "\n",
       "  exp_rm_cols  \n",
       "0     default  \n",
       "1     default  \n",
       "2     default  \n",
       "3     default  \n",
       "4     default  \n",
       "\n",
       "[5 rows x 40 columns]"
      ]
     },
     "execution_count": 3,
     "metadata": {},
     "output_type": "execute_result"
    }
   ],
   "source": [
    "df.head()"
   ]
  },
  {
   "cell_type": "code",
   "execution_count": 4,
   "metadata": {},
   "outputs": [
    {
     "data": {
      "image/png": "[encoded data removed]",
      "text/plain": [
       "<Figure size 432x288 with 1 Axes>"
      ]
     },
     "metadata": {
      "needs_background": "light"
     },
     "output_type": "display_data"
    }
   ],
   "source": [
    "ax = sns.countplot(x=\"job_type\", data=df)"
   ]
  },
  {
   "cell_type": "code",
   "execution_count": 5,
   "metadata": {},
   "outputs": [
    {
     "data": {
      "image/png": "[encoded data removed]",
      "text/plain": [
       "<Figure size 432x288 with 1 Axes>"
      ]
     },
     "metadata": {
      "needs_background": "light"
     },
     "output_type": "display_data"
    }
   ],
   "source": [
    "ax = sns.countplot(x=\"profile\", data=df, order=profiles)"
   ]
  },
  {
   "cell_type": "code",
   "execution_count": 6,
   "metadata": {},
   "outputs": [
    {
     "data": {
      "image/png": "[encoded data removed]",
      "text/plain": [
       "<Figure size 432x288 with 1 Axes>"
      ]
     },
     "metadata": {
      "needs_background": "light"
     },
     "output_type": "display_data"
    }
   ],
   "source": [
    "ax = sns.countplot(x='version', data=df, order=versions)"
   ]
  },
  {
   "cell_type": "code",
   "execution_count": 7,
   "metadata": {},
   "outputs": [
    {
     "data": {
      "image/png": "[encoded data removed]",
      "text/plain": [
       "<Figure size 432x288 with 1 Axes>"
      ]
     },
     "metadata": {
      "needs_background": "light"
     },
     "output_type": "display_data"
    }
   ],
   "source": [
    "ax = sns.countplot(x='profile', hue='version', data=df, order=profiles, hue_order=versions)"
   ]
  },
  {
   "cell_type": "code",
   "execution_count": 8,
   "metadata": {},
   "outputs": [
    {
     "data": {
      "text/plain": [
       "Index(['cid', 'list_id', 'company', 'position', 'office', 'office_state',\n",
       "       'job_type', 'list_rank', 'source', 'file_rank', 'state_name', 'state',\n",
       "       'region', 'proximal_region', 'contact_name', 'contact_last_name',\n",
       "       'contact_email', 'prestige_level', 'order', 'version', 'leadership',\n",
       "       'party', 'profile', 'name', 'exp_date', 'exp_employers',\n",
       "       'exp_state_col', 'exp_prestige_probs', 'exp_prestige_labs',\n",
       "       'exp_treatment_probs', 'exp_treatment_labs', 'exp_control_lab',\n",
       "       'exp_pair_key', 'exp_order', 'exp_order_list', 'exp_version',\n",
       "       'exp_version_list', 'exp_leader', 'exp_leader_list', 'exp_rm_cols'],\n",
       "      dtype='object')"
      ]
     },
     "execution_count": 8,
     "metadata": {},
     "output_type": "execute_result"
    }
   ],
   "source": [
    "df.columns"
   ]
  },
  {
   "cell_type": "code",
   "execution_count": 9,
   "metadata": {},
   "outputs": [
    {
     "data": {
      "image/png": "[encoded data removed]",
      "text/plain": [
       "<Figure size 432x288 with 1 Axes>"
      ]
     },
     "metadata": {
      "needs_background": "light"
     },
     "output_type": "display_data"
    }
   ],
   "source": [
    "ax = sns.countplot(x='profile', hue='region', data=df, order=profiles)"
   ]
  },
  {
   "cell_type": "code",
   "execution_count": 10,
   "metadata": {},
   "outputs": [
    {
     "data": {
      "image/png": "[encoded data removed]",
      "text/plain": [
       "<Figure size 432x288 with 1 Axes>"
      ]
     },
     "metadata": {
      "needs_background": "light"
     },
     "output_type": "display_data"
    }
   ],
   "source": [
    "ax = sns.countplot(x='profile', hue='order', data=df, order=profiles)"
   ]
  },
  {
   "cell_type": "code",
   "execution_count": 11,
   "metadata": {},
   "outputs": [
    {
     "data": {
      "text/plain": [
       "P03NH    377\n",
       "P05RH    220\n",
       "P01DH    157\n",
       "P04NL    145\n",
       "P06RL     82\n",
       "P02DL     63\n",
       "Name: profile, dtype: int64"
      ]
     },
     "execution_count": 11,
     "metadata": {},
     "output_type": "execute_result"
    }
   ],
   "source": [
    "df['profile'].value_counts()"
   ]
  },
  {
   "cell_type": "code",
   "execution_count": 12,
   "metadata": {},
   "outputs": [
    {
     "data": {
      "image/png": "[encoded data removed]",
      "text/plain": [
       "<Figure size 432x288 with 1 Axes>"
      ]
     },
     "metadata": {
      "needs_background": "light"
     },
     "output_type": "display_data"
    }
   ],
   "source": [
    "ax = sns.countplot(x=\"office_state\", data=df)"
   ]
  },
  {
   "cell_type": "code",
   "execution_count": 13,
   "metadata": {},
   "outputs": [
    {
     "data": {
      "text/plain": [
       "CA    190\n",
       "TX    126\n",
       "NY     64\n",
       "IL     60\n",
       "PA     46\n",
       "FL     44\n",
       "OH     42\n",
       "MA     42\n",
       "NC     36\n",
       "GA     36\n",
       "WA     32\n",
       "NJ     26\n",
       "WI     24\n",
       "MI     22\n",
       "MO     22\n",
       "CO     22\n",
       "VA     18\n",
       "TN     18\n",
       "MN     18\n",
       "MD     16\n",
       "KS     14\n",
       "IN     14\n",
       "AZ     14\n",
       "NE     10\n",
       "DC     10\n",
       "OK      8\n",
       "CT      8\n",
       "RI      6\n",
       "ID      6\n",
       "HI      6\n",
       "UT      6\n",
       "IA      6\n",
       "NV      6\n",
       "AL      4\n",
       "KY      4\n",
       "AR      4\n",
       "OR      4\n",
       "LA      2\n",
       "PR      2\n",
       "MS      2\n",
       "SC      2\n",
       "DE      2\n",
       "Name: office_state, dtype: int64"
      ]
     },
     "execution_count": 13,
     "metadata": {},
     "output_type": "execute_result"
    }
   ],
   "source": [
    "df['office_state'].value_counts()"
   ]
  }
 ],
 "metadata": {
  "kernelspec": {
   "display_name": "Python 3",
   "language": "python",
   "name": "python3"
  },
  "language_info": {
   "codemirror_mode": {
    "name": "ipython",
    "version": 3
   },
   "file_extension": ".py",
   "mimetype": "text/x-python",
   "name": "python",
   "nbconvert_exporter": "python",
   "pygments_lexer": "ipython3",
   "version": "3.7.3"
  }
 },
 "nbformat": 4,
 "nbformat_minor": 2
}
